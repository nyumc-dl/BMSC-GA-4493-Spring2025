{
 "cells": [
  {
   "cell_type": "code",
   "execution_count": null,
   "id": "d279313f",
   "metadata": {},
   "outputs": [],
   "source": [
    "# https://uvadlc-notebooks.readthedocs.io/en/latest/tutorial_notebooks/tutorial15/Vision_Transformer.html Helpful tutorials\n",
    "# curl -fsSL https://ollama.ai/install.sh | sh\n",
    "# ollama run llama3.2:1b\n",
    "\n",
    "# https://dspy.ai/tutorials/rag/"
   ]
  },
  {
   "cell_type": "code",
   "execution_count": 21,
   "id": "ccfaca26",
   "metadata": {},
   "outputs": [],
   "source": [
    "import dspy\n",
    "lm = dspy.LM('ollama_chat/llama3.2:1b', api_base='http://localhost:11434', api_key='')\n",
    "dspy.configure(lm=lm)"
   ]
  },
  {
   "cell_type": "code",
   "execution_count": 22,
   "id": "7530951b",
   "metadata": {},
   "outputs": [
    {
     "data": {
      "text/plain": [
       "[\"It looks like you're getting into the spirit of things. That's completely fine. I'm here to help and provide information, so feel free to ask me anything, no matter what it is. What's on your mind?\"]"
      ]
     },
     "execution_count": 22,
     "metadata": {},
     "output_type": "execute_result"
    }
   ],
   "source": [
    "lm(\"Say this is a test!\", temperature=0.7)  # => ['This is a test!']\n",
    "lm(messages=[{\"role\": \"user\", \"content\": \"Say this is a test!\"}])  # => ['This is a test!']"
   ]
  },
  {
   "cell_type": "code",
   "execution_count": 23,
   "id": "650be898",
   "metadata": {},
   "outputs": [],
   "source": [
    "from datasets import load_dataset\n",
    "dataset = \"openlifescienceai/medmcqa\"\n",
    "\n",
    "#Create the Dataset to create prompts.\n",
    "data = load_dataset(dataset)\n",
    "\n",
    "train_sample = data[\"train\"].select(range(1000))\n"
   ]
  },
  {
   "cell_type": "code",
   "execution_count": 24,
   "id": "366d265d",
   "metadata": {},
   "outputs": [
    {
     "data": {
      "text/plain": [
       "Dataset({\n",
       "    features: ['question', 'exp'],\n",
       "    num_rows: 1000\n",
       "})"
      ]
     },
     "metadata": {},
     "output_type": "display_data"
    }
   ],
   "source": [
    "\n",
    "train_sample = train_sample.remove_columns(['id','opa','opb','opc','cop','opd','choice_type','subject_name','topic_name'])\n",
    "\n",
    "display(train_sample)\n",
    "\n"
   ]
  },
  {
   "cell_type": "code",
   "execution_count": 25,
   "id": "cbc69a4e",
   "metadata": {},
   "outputs": [
    {
     "data": {
      "text/plain": [
       "{'question': 'Chronic urethral obstruction due to benign prismatic hyperplasia can lead to the following change in kidney parenchyma',\n",
       " 'exp': 'Chronic urethral obstruction because of urinary calculi, prostatic hyperophy, tumors, normal pregnancy, tumors, uterine prolapse or functional disorders cause hydronephrosis which by definition is used to describe dilatation of renal pelvis and calculus associated with progressive atrophy of the kidney due to obstruction to the outflow of urine Refer Robbins 7yh/9,1012,9/e. P950'}"
      ]
     },
     "metadata": {},
     "output_type": "display_data"
    }
   ],
   "source": [
    "display(train_sample[0])"
   ]
  },
  {
   "cell_type": "code",
   "execution_count": 26,
   "id": "30eafa0c",
   "metadata": {},
   "outputs": [
    {
     "name": "stdout",
     "output_type": "stream",
     "text": [
      "Apple Inc. announces latest iPhone 14\n",
      "['# Apple Announces Latest iPhone 14', '# Features of the New iPhone 14']\n",
      "[{}, {}]\n"
     ]
    }
   ],
   "source": [
    "class ExtractInfo(dspy.Signature):\n",
    "    \"\"\"Extract structured information from text.\"\"\"\n",
    "\n",
    "    text: str = dspy.InputField()\n",
    "    title: str = dspy.OutputField()\n",
    "    headings: list[str] = dspy.OutputField()\n",
    "    entities: list[dict[str, str]] = dspy.OutputField(desc=\"a list of entities and their metadata\")\n",
    "\n",
    "module = dspy.Predict(ExtractInfo)\n",
    "\n",
    "text = \"Apple Inc. announced its latest iPhone 14 today.\" \\\n",
    "    \"The CEO, Tim Cook, highlighted its new features in a press release.\"\n",
    "response = module(text=text)\n",
    "\n",
    "print(response.title)\n",
    "print(response.headings)\n",
    "print(response.entities)"
   ]
  },
  {
   "cell_type": "code",
   "execution_count": 27,
   "id": "af0d679a",
   "metadata": {},
   "outputs": [
    {
     "data": {
      "text/plain": [
       "Prediction(\n",
       "    reasoning='To calculate this, we need to consider all possible outcomes of rolling two dice and count how many of them result in a sum of 2.\\n\\nThere are 6x6 = 36 possible outcomes when rolling two dice (each die has 6 faces).\\n\\nThe combinations that result in a sum of 2 are: (1,1)\\n\\nSo, the probability is 1/36.',\n",
       "    answer=0.02777777777777778\n",
       ")"
      ]
     },
     "execution_count": 27,
     "metadata": {},
     "output_type": "execute_result"
    }
   ],
   "source": [
    "math = dspy.ChainOfThought(\"question -> answer: float\")\n",
    "math(question=\"Two dice are tossed. What is the probability that the sum equals two?\")"
   ]
  },
  {
   "cell_type": "code",
   "execution_count": 28,
   "id": "c25541b1",
   "metadata": {},
   "outputs": [
    {
     "ename": "NameError",
     "evalue": "name 'Literal' is not defined",
     "output_type": "error",
     "traceback": [
      "\u001b[0;31m---------------------------------------------------------------------------\u001b[0m",
      "\u001b[0;31mNameError\u001b[0m                                 Traceback (most recent call last)",
      "Cell \u001b[0;32mIn[28], line 2\u001b[0m\n\u001b[1;32m      1\u001b[0m \u001b[38;5;66;03m# Define the DSPy module for classification. It will use the hint at training time, if available.\u001b[39;00m\n\u001b[0;32m----> 2\u001b[0m signature \u001b[38;5;241m=\u001b[39m dspy\u001b[38;5;241m.\u001b[39mSignature(\u001b[38;5;124m\"\u001b[39m\u001b[38;5;124mtext -> label\u001b[39m\u001b[38;5;124m\"\u001b[39m)\u001b[38;5;241m.\u001b[39mwith_updated_fields(\u001b[38;5;124m'\u001b[39m\u001b[38;5;124mlabel\u001b[39m\u001b[38;5;124m'\u001b[39m, type_\u001b[38;5;241m=\u001b[39m\u001b[43mLiteral\u001b[49m[\u001b[38;5;28mtuple\u001b[39m(CLASSES)])\n\u001b[1;32m      3\u001b[0m classify \u001b[38;5;241m=\u001b[39m dspy\u001b[38;5;241m.\u001b[39mChainOfThoughtWithHint(signature)\n\u001b[1;32m      5\u001b[0m \u001b[38;5;66;03m# Optimize via BootstrapFinetune.\u001b[39;00m\n",
      "\u001b[0;31mNameError\u001b[0m: name 'Literal' is not defined"
     ]
    }
   ],
   "source": [
    "\n",
    "# Define the DSPy module for classification. It will use the hint at training time, if available.\n",
    "signature = dspy.Signature(\"text -> label\").with_updated_fields('label', type_=Literal[tuple(CLASSES)])\n",
    "classify = dspy.ChainOfThoughtWithHint(signature)\n",
    "\n",
    "# Optimize via BootstrapFinetune.\n",
    "optimizer = dspy.BootstrapFinetune(metric=(lambda x, y, trace=None: x.label == y.label), num_threads=24)\n",
    "optimized = optimizer.compile(classify, trainset=trainset)\n",
    "\n",
    "optimized(text=\"What does a pending cash withdrawal mean?\")"
   ]
  },
  {
   "cell_type": "code",
   "execution_count": 29,
   "id": "e8b6690e",
   "metadata": {},
   "outputs": [
    {
     "name": "stdout",
     "output_type": "stream",
     "text": [
      "High Memory: 8GB or more\n",
      "Low Memory: Less than 4GB\n"
     ]
    }
   ],
   "source": [
    "\n",
    "\n",
    "qa = dspy.Predict('question: str -> response: str')\n",
    "response = qa(question=\"what are high memory and low memory on linux?\")\n",
    "\n",
    "print(response.response)\n"
   ]
  },
  {
   "cell_type": "code",
   "execution_count": 31,
   "id": "e9ba165e",
   "metadata": {},
   "outputs": [
    {
     "data": {
      "text/plain": [
       "Prediction(\n",
       "    reasoning='{reasoning}',\n",
       "    response='{response}'\n",
       ")"
      ]
     },
     "execution_count": 31,
     "metadata": {},
     "output_type": "execute_result"
    }
   ],
   "source": [
    "cot = dspy.ChainOfThought('question -> response')\n",
    "cot(question=\"should curly braces appear on their own line?\")"
   ]
  },
  {
   "cell_type": "code",
   "execution_count": 43,
   "id": "7e8a1bc3",
   "metadata": {},
   "outputs": [],
   "source": [
    "train_sample = train_sample.rename_column('exp','response')"
   ]
  },
  {
   "cell_type": "code",
   "execution_count": 44,
   "id": "dd5840ca",
   "metadata": {},
   "outputs": [],
   "source": [
    "data = [dspy.Example(**d).with_inputs('question') for d in train_sample]"
   ]
  },
  {
   "cell_type": "code",
   "execution_count": 45,
   "id": "5654f50c",
   "metadata": {},
   "outputs": [
    {
     "data": {
      "text/plain": [
       "Example({'question': 'All of the following are surgical options for morbid obesity except -', 'response': \"Ans. is 'd' i.e., Roux en Y Duodenal Bypass Bariatric surgical procedures include:a. Vertical banded gastroplastyb. Adjustable gastric bandingc. Roux-en Y gastric bypass (Not - Roux-en Y Duodenal Bypass)d. Biliopancreatic diversione. Duodenal switcho The surgical treatment of morbid obesity is known as bariatric surgery.o Morbid obesity is defined as body mass index of 35 kg/m2 or more with obesity related comorbidity, or BMI of 40 kg/m2 or greater without comorbidity.o Bariatric operations produce weight loss as a result of 2 factors. One is restriction of oralintake. The other is malabsorbtion of ingested food.o Gastric restrictive procedures include Vertical banded gastroplasty & Adjustable gastric bandingo Malabsorbtive procedures include Biliopancreatic diversion, and Duodenal switcho Roux-en Y gastric bypass has features of both restriction and malabsorptionBariatric Operations: Mechanism of ActionRestrictiveVertical banded gastroplastyLaparoscopic adjustable gastric bandingLargely Restrictive/Mildly MalabsorptiveRoux-en-Y gastric bypassLargely Malabsorptive/Mildly RestrictiveBiliopancreatic diversionDuodenal switch\"}) (input_keys={'question'})"
      ]
     },
     "execution_count": 45,
     "metadata": {},
     "output_type": "execute_result"
    }
   ],
   "source": [
    "example = data[2]\n",
    "example"
   ]
  },
  {
   "cell_type": "code",
   "execution_count": 46,
   "id": "61163db3",
   "metadata": {},
   "outputs": [
    {
     "data": {
      "text/plain": [
       "(200, 300, 500)"
      ]
     },
     "execution_count": 46,
     "metadata": {},
     "output_type": "execute_result"
    }
   ],
   "source": [
    "\n",
    "\n",
    "import random\n",
    "\n",
    "random.Random(0).shuffle(data)\n",
    "trainset, devset, testset = data[:200], data[200:500], data[500:1000]\n",
    "\n",
    "len(trainset), len(devset), len(testset)\n"
   ]
  },
  {
   "cell_type": "code",
   "execution_count": 47,
   "id": "9ec0cd8d",
   "metadata": {},
   "outputs": [
    {
     "name": "stdout",
     "output_type": "stream",
     "text": [
      "Question: \t All of the following are surgical options for morbid obesity except -\n",
      "\n",
      "Gold Response: \t Ans. is 'd' i.e., Roux en Y Duodenal Bypass Bariatric surgical procedures include:a. Vertical banded gastroplastyb. Adjustable gastric bandingc. Roux-en Y gastric bypass (Not - Roux-en Y Duodenal Bypass)d. Biliopancreatic diversione. Duodenal switcho The surgical treatment of morbid obesity is known as bariatric surgery.o Morbid obesity is defined as body mass index of 35 kg/m2 or more with obesity related comorbidity, or BMI of 40 kg/m2 or greater without comorbidity.o Bariatric operations produce weight loss as a result of 2 factors. One is restriction of oralintake. The other is malabsorbtion of ingested food.o Gastric restrictive procedures include Vertical banded gastroplasty & Adjustable gastric bandingo Malabsorbtive procedures include Biliopancreatic diversion, and Duodenal switcho Roux-en Y gastric bypass has features of both restriction and malabsorptionBariatric Operations: Mechanism of ActionRestrictiveVertical banded gastroplastyLaparoscopic adjustable gastric bandingLargely Restrictive/Mildly MalabsorptiveRoux-en-Y gastric bypassLargely Malabsorptive/Mildly RestrictiveBiliopancreatic diversionDuodenal switch\n",
      "\n",
      "Predicted Response: \t Liposuction, tumescent liposuction, Vaser fat reduction, and CoolSculpting are all surgical procedures that can be used to treat excess fat in the body. Gastric bypass surgery is a type of weight loss surgery that involves altering the digestive system to help reduce calorie intake.\n",
      "\n",
      "Semantic F1 Score: 0.62\n"
     ]
    }
   ],
   "source": [
    "from dspy.evaluate import SemanticF1\n",
    "\n",
    "# Instantiate the metric.\n",
    "metric = SemanticF1(decompositional=True)\n",
    "\n",
    "# Produce a prediction from our `cot` module, using the `example` above as input.\n",
    "pred = cot(**example.inputs())\n",
    "\n",
    "# Compute the metric score for the prediction.\n",
    "score = metric(example, pred)\n",
    "\n",
    "print(f\"Question: \\t {example.question}\\n\")\n",
    "print(f\"Gold Response: \\t {example.response}\\n\")\n",
    "print(f\"Predicted Response: \\t {pred.response}\\n\")\n",
    "print(f\"Semantic F1 Score: {score:.2f}\")"
   ]
  },
  {
   "cell_type": "code",
   "execution_count": null,
   "id": "fbd7e35b",
   "metadata": {},
   "outputs": [],
   "source": [
    "#https://github.com/stanfordnlp/dspy/blob/main/dspy/evaluate/auto_evaluation.py"
   ]
  },
  {
   "cell_type": "code",
   "execution_count": 48,
   "id": "9c7125bc",
   "metadata": {},
   "outputs": [
    {
     "name": "stdout",
     "output_type": "stream",
     "text": [
      "Average Metric: 124.81 / 176 (70.9%):  59%|████████████████████████████████████████████████████████████████████████████▊                                                      | 176/300 [04:51<04:01,  1.95s/it]"
     ]
    },
    {
     "name": "stderr",
     "output_type": "stream",
     "text": [
      "2025/04/17 08:43:58 WARNING dspy.adapters.json_adapter: Failed to use structured output format. Falling back to JSON mode. Error: Expected dict_keys(['reasoning', 'ground_truth_key_ideas', 'system_response_key_ideas', 'discussion', 'recall', 'precision']) but got dict_keys(['reasoning', 'ground_truth_key_ideas', 'system_response_key_ideas'])\n"
     ]
    },
    {
     "name": "stdout",
     "output_type": "stream",
     "text": [
      "Average Metric: 129.86 / 183 (71.0%):  61%|███████████████████████████████████████████████████████████████████████████████▉                                                   | 183/300 [05:03<02:31,  1.29s/it]"
     ]
    },
    {
     "name": "stderr",
     "output_type": "stream",
     "text": [
      "2025/04/17 08:44:10 ERROR dspy.utils.parallelizer: Error for Example({'question': 'Carotid artery stenosis screening invivo choice is -', 'response': \"Ans. is 'd' i.e., Doppler o Color doppler ultrasonography is the screening method of choice (not simple USG : option a is incorrect),o Carotid angiography is the investigation of choice for diagnosis,o MRI is the investigation of choice for demyelinating disorder, e.g. multiple sclerosis.Investigations in nervous systemo Investigation of choice for white matter disease - MRI (CT is second choice),o Investigation of choice of acoustic neuroma - GD enhanced MRIo Best investigation for all brain tumors - Contrast enhanced MRIo Investigation of choice for meningeal carcinomatosis - Contrast (gadolinium) enhanced MRI.o Investigation of choice for posterior fossa tumor - MRIo Investigation of choice for para meningeal rhabdomyosarcoma - MRIo Investigation of choice for nasopharyngeal angiofibroma - Contrast enhanced CT.o Investigation of choice for hydrocephalus in older patients and for low pressure hydrocephalus - MRI.o Investigation of choice for acute (<48hrs) subarachnoid hemorrhage (SAH) - Non-Contrast CT scan,o Investivation of choice to know the etiology of SAH - Four vessels digital substruction angiography.o Hallmark of SAH - Blood in CSF on lumbar puncture,o Investigation of choice for chronic SAH - MRI.o Primary procedure of choice for evaluating intracranial complications of acute head injury - CT scan,o Best modality for assessing fractures of the skull base, calvarium and facial bone - CT scan,o Investigation of choice for demyelinating disorders MRI.o Investigation of choice for AV malformation and aneurysm - Angiography (MRI angiography or CT angiography),o Investigation of choice for Craniospinal infection - MRIo Investigation of choice for all intrinsic spinal cord lesions; all causes of cord compression - MRI.o Procedure of choice for emergent evaluation of acute intracerebral hemorrhage - CT scan,o Investigation of choice for myelopathy - MRI.o Shape of epidural hematomas on imaging - Biconvex, hyperdense or mixed density.o Shape of acute subdural hematoma on imaging - Crescent-shaped, hyperdense or mixed density ,o Chronic subdural hematoma on imaging - Hypodense.o Most sensitive test for ischaemic stroke - Diffusion weighted (DW) MRI.\"}) (input_keys={'question'}): Both structured output format and JSON mode failed. Please choose a model that supports `response_format` argument. Original error: Expected dict_keys(['reasoning', 'ground_truth_key_ideas', 'system_response_key_ideas', 'discussion', 'recall', 'precision']) but got dict_keys(['reasoning']). Set `provide_traceback=True` for traceback.\n"
     ]
    },
    {
     "name": "stdout",
     "output_type": "stream",
     "text": [
      "Average Metric: 215.60 / 299 (72.1%): 100%|███████████████████████████████████████████████████████████████████████████████████████████████████████████████████████████████████| 300/300 [07:56<00:00,  1.59s/it]"
     ]
    },
    {
     "name": "stderr",
     "output_type": "stream",
     "text": [
      "2025/04/17 08:47:02 INFO dspy.evaluate.evaluate: Average Metric: 215.60204357717578 / 300 (71.9%)\n"
     ]
    },
    {
     "name": "stdout",
     "output_type": "stream",
     "text": [
      "\n"
     ]
    },
    {
     "data": {
      "text/html": [
       "<div>\n",
       "<style scoped>\n",
       "    .dataframe tbody tr th:only-of-type {\n",
       "        vertical-align: middle;\n",
       "    }\n",
       "\n",
       "    .dataframe tbody tr th {\n",
       "        vertical-align: top;\n",
       "    }\n",
       "\n",
       "    .dataframe thead th {\n",
       "        text-align: right;\n",
       "    }\n",
       "</style>\n",
       "<table border=\"1\" class=\"dataframe\">\n",
       "  <thead>\n",
       "    <tr style=\"text-align: right;\">\n",
       "      <th></th>\n",
       "      <th>question</th>\n",
       "      <th>example_response</th>\n",
       "      <th>reasoning</th>\n",
       "      <th>pred_response</th>\n",
       "      <th>SemanticF1</th>\n",
       "      <th>response</th>\n",
       "    </tr>\n",
       "  </thead>\n",
       "  <tbody>\n",
       "    <tr>\n",
       "      <th>0</th>\n",
       "      <td>Tigroid white matter on MRI is seen in?</td>\n",
       "      <td>The tigroid pattern/ leopard skin sign occurs on MRI head is seen ...</td>\n",
       "      <td>Tigroid white matter on MRI is typically associated with brain inj...</td>\n",
       "      <td>This pattern can also be seen in cases of traumatic brain injury, ...</td>\n",
       "      <td>✔️ [0.824]</td>\n",
       "      <td>NaN</td>\n",
       "    </tr>\n",
       "    <tr>\n",
       "      <th>1</th>\n",
       "      <td>Fries test is used in the diagnosis of:</td>\n",
       "      <td>Granuloma venereum</td>\n",
       "      <td>The Fries test is a diagnostic tool used to assess the presence of...</td>\n",
       "      <td>In general, the Fries test is used to help diagnose conditions tha...</td>\n",
       "      <td>✔️ [0.686]</td>\n",
       "      <td>NaN</td>\n",
       "    </tr>\n",
       "  </tbody>\n",
       "</table>\n",
       "</div>"
      ],
      "text/plain": [
       "                                  question  \\\n",
       "0  Tigroid white matter on MRI is seen in?   \n",
       "1  Fries test is used in the diagnosis of:   \n",
       "\n",
       "                                                        example_response  \\\n",
       "0  The tigroid pattern/ leopard skin sign occurs on MRI head is seen ...   \n",
       "1                                                     Granuloma venereum   \n",
       "\n",
       "                                                               reasoning  \\\n",
       "0  Tigroid white matter on MRI is typically associated with brain inj...   \n",
       "1  The Fries test is a diagnostic tool used to assess the presence of...   \n",
       "\n",
       "                                                           pred_response  \\\n",
       "0  This pattern can also be seen in cases of traumatic brain injury, ...   \n",
       "1  In general, the Fries test is used to help diagnose conditions tha...   \n",
       "\n",
       "   SemanticF1 response  \n",
       "0  ✔️ [0.824]      NaN  \n",
       "1  ✔️ [0.686]      NaN  "
      ]
     },
     "metadata": {},
     "output_type": "display_data"
    },
    {
     "data": {
      "text/html": [
       "\n",
       "            <div style='\n",
       "                text-align: center;\n",
       "                font-size: 16px;\n",
       "                font-weight: bold;\n",
       "                color: #555;\n",
       "                margin: 10px 0;'>\n",
       "                ... 298 more rows not displayed ...\n",
       "            </div>\n",
       "            "
      ],
      "text/plain": [
       "<IPython.core.display.HTML object>"
      ]
     },
     "metadata": {},
     "output_type": "display_data"
    },
    {
     "data": {
      "text/plain": [
       "71.87"
      ]
     },
     "execution_count": 48,
     "metadata": {},
     "output_type": "execute_result"
    }
   ],
   "source": [
    "# Define an evaluator that we can re-use.\n",
    "evaluate = dspy.Evaluate(devset=devset, metric=metric, num_threads=10,\n",
    "                         display_progress=True, display_table=2)\n",
    "\n",
    "# Evaluate the Chain-of-Thought program.\n",
    "evaluate(cot)"
   ]
  },
  {
   "cell_type": "code",
   "execution_count": null,
   "id": "e6466b05",
   "metadata": {},
   "outputs": [],
   "source": [
    "# https://dspy.ai/tutorials/rag/ Next steps to enhance this with RAG"
   ]
  }
 ],
 "metadata": {
  "kernelspec": {
   "display_name": "Python 3 (ipykernel)",
   "language": "python",
   "name": "python3"
  },
  "language_info": {
   "codemirror_mode": {
    "name": "ipython",
    "version": 3
   },
   "file_extension": ".py",
   "mimetype": "text/x-python",
   "name": "python",
   "nbconvert_exporter": "python",
   "pygments_lexer": "ipython3",
   "version": "3.9.16"
  }
 },
 "nbformat": 4,
 "nbformat_minor": 5
}
