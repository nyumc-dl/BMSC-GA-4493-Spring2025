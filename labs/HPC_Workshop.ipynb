{
 "cells": [
  {
   "cell_type": "markdown",
   "id": "b9771e9c-a93b-4300-bed0-7d3d614a810c",
   "metadata": {},
   "source": [
    "# HPC Workshop"
   ]
  },
  {
   "cell_type": "markdown",
   "id": "a081e61c-3129-4ed2-bfb1-6febbdfb14b6",
   "metadata": {},
   "source": [
    "## Getting Started: Log into Greene HPC\n",
    "\n",
    "### With NYU VPN on (Recommended)\n",
    "1. Install NYU VPN if you haven't already:  \n",
    "   Mac: https://nyu.service-now.com/sp?sys_kb_id=a6be768b1c8dd504bbcf4dc2835ec355&id=kb_article_view&sysparm_rank=5&sysparm_tsqueryId=205010939313de10e8637d4efaba1002  \n",
    "   Windows: https://nyu.service-now.com/sp?sys_kb_id=6177d7031c811904bbcf4dc2835ec340&id=kb_article_view&sysparm_rank=4&sysparm_tsqueryId=7660d0939313de10e8637d4efaba10de\n",
    "2. Turn on NYU VPN\n",
    "3. Open a terminal window, log in with the following command:  \n",
    "    `ssh <NetID>@greene.hpc.nyu.edu`\n",
    "4. Enter your password and hit Enter. If you see `Permission Denied`, let us know with your NetID to grant you access. \n",
    "\n",
    "### Without NYU VPN\n",
    "1. Open a terminal window, log into the gateway first with the following command:  \n",
    "   `ssh <NetID>@gw.hpc.nyu.edu`\n",
    "2. Then inside the gateway, log into Greene with:  \n",
    "   `ssh <NetID>@greene.hpc.nyu.edu`\n",
    "\n",
    "### Graphical interface (Open OnDemand)\n",
    "To access OOD visit: https://ood.hpc.nyu.edu (VPN Required). You do need to log into Greene in terminal at least once to initialize your home directory for OOD to work. "
   ]
  },
  {
   "cell_type": "markdown",
   "id": "5b08bbd0-8d10-45c1-99a5-48694d25de26",
   "metadata": {
    "jp-MarkdownHeadingCollapsed": true
   },
   "source": [
    "## Modules and Slurm\n",
    "\n",
    "### Modules\n",
    "The HPC has a lot of softwares preinstalled that can be used using `module` commands. Here's some basic commands:  \n",
    "**Modules basic commands**\n",
    "* `module load <module-name>`\t: load a module\n",
    "* `module unload <module-name>`\t: unload a module\n",
    "* `module show <module-name>`\t: see exactly what effect loading the module will have with\n",
    "* `module purge`\t\t\t: remove all loaded modules from your environment\n",
    "* `module list`\t\t\t: check which modules are currently loaded in your environment\n",
    "* `module avail`\t\t\t: check what software packages are available\n",
    "\n",
    "### Slurm\n",
    "Slurm software system is a resource manager and a job scheduler, which is designed to allocate resources and schedule jobs.  \n",
    "**Slurm basic commands**\n",
    "* `sbatch <job-script>`: submit a job\n",
    "* `squeue --me`: check jobs you submitted\n",
    "* `scancel <job-id>`: cancel a job\n",
    "* `srun <arguments>`: starts a interactive job\n",
    "* `sinfo`: check cluster status\n"
   ]
  },
  {
   "cell_type": "markdown",
   "id": "8bae96e8-c015-4b65-94bf-305cfd7142aa",
   "metadata": {
    "jp-MarkdownHeadingCollapsed": true
   },
   "source": [
    "## Create conda enviroment with Jupyter on HPC\n",
    "1. Load anaconda with `module load anaconda3/2024.02`\n",
    "2. Create symbolic link\n",
    "    * You need to create a symbolic link, so conda will download files for packages to be installed into scratch, not your home directory. By doing the following: \n",
    "    * `mkdir /home/<NetID>/.conda`\n",
    "    * `mkdir /scratch/<NetID>/conda_pkgs`\n",
    "    * `ln -s /scratch/<NetID>/conda_pkgs /home/<NetID>/.conda/pkgs`\n",
    "3. Create your conda environment:  \n",
    "   `conda create -p /scratch/<NetID>/<env_name> python=3.9 jupyter tqdm pandas scikit-learn matplotlib`\n",
    "4. Submit a job that activates the environment you just built, does the port forwarding, and starts a jupyter session. See a sample job script below:\n",
    "\n",
    "```bash\n",
    "#!/bin/bash\n",
    "#SBATCH --job-name jupyter-notebook\n",
    "#SBATCH --output jupyter-notebook-%J.log\n",
    "#SBATCH --nodes=1\n",
    "#SBATCH --cpus-per-task=1\n",
    "#SBATCH --ntasks-per-node=1\n",
    "#SBATCH --mem=8GB\n",
    "#SBATCH --time=48:00:00\n",
    "#SBATCH --gres=gpu:1\n",
    "\n",
    "# activate your environment\n",
    "module purge\n",
    "module load anaconda3/2024.02\n",
    "export OMP_NUM_THREADS=$SLURM_CPUS_PER_TASK\n",
    "source /share/apps/anaconda3/2024.02/etc/profile.d/conda.sh\n",
    "conda activate /scratch/hz1975/dl4med_25\n",
    "export PATH=/scratch/hz1975/dl4med_25/bin:$PATH\n",
    "\n",
    "# get tunneling info\n",
    "XDG_RUNTIME_DIR=\"\"\n",
    "port=$(shuf -i8000-9999 -n1)\n",
    "node=$(hostname -s)\n",
    "user=$(whoami)\n",
    "\n",
    "# print tunneling instructions jupyter-log\n",
    "echo -e \"\n",
    "Terminal command to create your ssh tunnel\n",
    "ssh -N -L ${port}:${node}:${port} ${user}@greene.hpc.nyu.edu\n",
    "Windows MobaXterm info\n",
    "Forwarded port:same as remote port\n",
    "Remote server: ${node}\n",
    "Remote port: ${port}\n",
    "SSH server: greene.hpc.nyu.edu\n",
    "SSH login: $user\n",
    "SSH port: 22\n",
    "Use a Browser on your local machine to go to:\n",
    "localhost:${port}/lab?token=${token}  (prefix w/ https:// if using password)\n",
    "\"\n",
    "\n",
    "jupyter notebook --no-browser --port=${port} --ip=${node}\n",
    "```\n",
    "\n",
    "\n",
    "---\n",
    "\n",
    "Once the job runs, a log file named `jupyter-notebook-%J.log` will be outputted. This script can also be adapted to run your model training code. \n",
    "\n",
    "5. Open the log file, copy and paste the terminal command into a new terminal window and run it.\n",
    "6. Scroll down the log file, and you'll see a link that opens the jupyter looking like:\n",
    "   `http://127.0.0.1:<port>/tree?token=<token>`\n",
    "7. Now you should see the jupyter page. We need to install PyTorch inside our environment. To do so, open a terminal session within Jupyter by clicking New -> Terminal.\n",
    "8. Install PyTorch with `pip3 install torch torchvision torchaudio`\n",
    "9. Verify that torch works using `import torch; torch.cuda.is_available()` in Python\n",
    "\n",
    "Alternatively, you can set up your enviroments in a container using Singularity. Follow the tutorial here: https://sites.google.com/nyu.edu/nyu-hpc/hpc-systems/greene/software/singularity-with-miniconda?authuser=0"
   ]
  },
  {
   "cell_type": "markdown",
   "id": "135e7653-5bdf-4c08-9aa8-26712d9de6a2",
   "metadata": {},
   "source": [
    "## Resources:\n",
    "NYU Greene HPC: https://sites.google.com/nyu.edu/nyu-hpc/home?authuser=0  \n",
    "Getting started: https://sites.google.com/nyu.edu/nyu-hpc/hpc-systems/greene/getting-started?authuser=0  \n",
    "Slurm tutorial: https://sites.google.com/nyu.edu/nyu-hpc/training-support/tutorials/slurm-tutorial?authuser=0  \n",
    "Slurm commands: https://sites.google.com/nyu.edu/nyu-hpc/training-support/general-hpc-topics/slurm-main-commands?authuser=0  \n",
    "Conda environments: https://sites.google.com/nyu.edu/nyu-hpc/hpc-systems/greene/software/conda-environments-python-r?authuser=0  \n",
    "Singularity + Conda: https://sites.google.com/nyu.edu/nyu-hpc/hpc-systems/greene/software/singularity-with-miniconda?authuser=0  \n",
    "Using containers on HPC: https://docs.google.com/presentation/d/1BG5JaMdwUkcSn887Q-cSf7M-5nQ9a7Dv3NQ0q6EKyqY/present?slide=id.g10f3178a1ff_0_63  \n"
   ]
  }
 ],
 "metadata": {
  "kernelspec": {
   "display_name": "Python 3 (ipykernel)",
   "language": "python",
   "name": "python3"
  },
  "language_info": {
   "codemirror_mode": {
    "name": "ipython",
    "version": 3
   },
   "file_extension": ".py",
   "mimetype": "text/x-python",
   "name": "python",
   "nbconvert_exporter": "python",
   "pygments_lexer": "ipython3",
   "version": "3.9.21"
  }
 },
 "nbformat": 4,
 "nbformat_minor": 5
}
