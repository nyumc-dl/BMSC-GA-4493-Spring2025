{
 "cells": [
  {
   "cell_type": "markdown",
   "id": "9fbec7f9-f224-4a5c-93c7-dd648356e6b0",
   "metadata": {},
   "source": [
    "# Lab 1: PyTorch Setup and Tutorial\n",
    "## Goal of this lab:\n",
    "1. Set up conda environment and PyTorch\n",
    "2. Understand the basics of tensors\n",
    "\n",
    "## Set up conda environment\n",
    "- If you don't have conda set up, follow instructions here: https://docs.anaconda.com/miniconda/install/\n",
    "- Create a new conda enviroment in terminal:  \n",
    "  `conda create -n dl4med_25 python=3.9 jupyter tqdm pandas scikit-learn matplotlib`  \n",
    "  `-n`: name of the environment  \n",
    "  `python=3.9` specify the python version (latest torch requires 3.9 minimum)  \n",
    "  can be followed by other packages you want to install like `jupyter tqdm pandas scikit-learn matplotlib`\n",
    "- Activate the environment:\n",
    "  `conda activate dl4med_25`\n",
    "- Install PyTorch:  \n",
    "  `pip3 install torch torchvision torchaudio`  \n",
    "  This might be different if you have CUDA-enabled GPUs. Go to PyTorch's website for the command suitable for your environment."
   ]
  },
  {
   "cell_type": "markdown",
   "id": "624dab54-6028-4081-89c5-5690841b88b7",
   "metadata": {},
   "source": [
    "## Verify the installation\n",
    "- Open jupyter notebook from your newly created environment with `jupyter notebook`\n",
    "- In the browser, create a new notebook"
   ]
  },
  {
   "cell_type": "code",
   "execution_count": null,
   "id": "d63b649f-d85f-4250-bb1a-13a81907b284",
   "metadata": {},
   "outputs": [],
   "source": [
    "# verify the installation\n",
    "import torch\n",
    "import numpy as np\n",
    "torch.__version__"
   ]
  },
  {
   "cell_type": "markdown",
   "id": "a62a92cc-11ba-40de-a2c0-dd5606cb101b",
   "metadata": {},
   "source": [
    "## Tensors\n",
    "\n",
    "Tensors are a specialized data structure that are very similar to arrays and matrices. In PyTorch, we use tensors to encode the inputs and outputs of a model, as well as the model’s parameters. Tensors are similar to NumPy’s ndarrays, except that tensors can run on GPUs or other hardware accelerators. Tensors are also optimized for automatic differentiation (will talk about this in the next lab). \n",
    "\n",
    "### Initialize a tensor"
   ]
  },
  {
   "cell_type": "code",
   "execution_count": null,
   "id": "b289fe6e-75e4-4b3f-8894-b491a371242f",
   "metadata": {},
   "outputs": [],
   "source": [
    "# 1. directly from data\n",
    "data = [[1, 2],\n",
    "        [3, 4]]\n",
    "x_data = torch.tensor(data)"
   ]
  },
  {
   "cell_type": "code",
   "execution_count": null,
   "id": "8b4dd893-d734-4911-9cae-1fd4126f0d53",
   "metadata": {},
   "outputs": [],
   "source": [
    "x_data"
   ]
  },
  {
   "cell_type": "code",
   "execution_count": null,
   "id": "0bc14d46-2e48-47d3-a72f-27d78e04d20b",
   "metadata": {},
   "outputs": [],
   "source": [
    "# 2. from a numpy array\n",
    "np_array = np.array(data)\n",
    "x_np = torch.from_numpy(np_array)"
   ]
  },
  {
   "cell_type": "code",
   "execution_count": null,
   "id": "5da280e5-0525-4855-a501-7be837b75962",
   "metadata": {},
   "outputs": [],
   "source": [
    "x_np"
   ]
  },
  {
   "cell_type": "code",
   "execution_count": null,
   "id": "40385f51-6e81-4526-bc3e-9f4454891689",
   "metadata": {},
   "outputs": [],
   "source": [
    "# 3. from another tensor\n",
    "x_ones = torch.ones_like(x_data) # retains the properties of x_data\n",
    "print(f\"Ones Tensor: \\n {x_ones} \\n\")\n",
    "\n",
    "x_rand = torch.rand_like(x_data, dtype=torch.float) # overrides the datatype of x_data\n",
    "print(f\"Random Tensor: \\n {x_rand} \\n\")"
   ]
  },
  {
   "cell_type": "code",
   "execution_count": null,
   "id": "8ac62bf9-6fd7-4c15-a0aa-10ef4664e18c",
   "metadata": {},
   "outputs": [],
   "source": [
    "# 4. from random or constant values\n",
    "shape = (2,3,)\n",
    "rand_tensor = torch.rand(shape)\n",
    "ones_tensor = torch.ones(shape)\n",
    "zeros_tensor = torch.zeros(shape)\n",
    "\n",
    "print(f\"Random Tensor: \\n {rand_tensor} \\n\")\n",
    "print(f\"Ones Tensor: \\n {ones_tensor} \\n\")\n",
    "print(f\"Zeros Tensor: \\n {zeros_tensor}\")"
   ]
  },
  {
   "cell_type": "markdown",
   "id": "d3571984-d24f-4065-b6b5-9d08a728acd8",
   "metadata": {},
   "source": [
    "### Attributes of a tensor"
   ]
  },
  {
   "cell_type": "code",
   "execution_count": null,
   "id": "e9722731-8211-4703-97f5-e5cad9566c18",
   "metadata": {},
   "outputs": [],
   "source": [
    "tensor = torch.rand(3,4)\n",
    "\n",
    "print(f\"Tensor: {tensor}\")"
   ]
  },
  {
   "cell_type": "code",
   "execution_count": null,
   "id": "ac732d11-6c46-4ed9-8bca-745667d2bd90",
   "metadata": {},
   "outputs": [],
   "source": [
    "print(f\"Shape of tensor: {tensor.shape}\")\n",
    "print(f\"Datatype of tensor: {tensor.dtype}\")\n",
    "print(f\"Device tensor is stored on: {tensor.device}\")\n",
    "print()\n",
    "print(\"Sending tensor from cpu to another device like GPU\")\n",
    "tensor = tensor.to('mps')\n",
    "print(f\"Device tensor is stored on: {tensor.device}\")"
   ]
  },
  {
   "cell_type": "markdown",
   "id": "79563d7a-bc60-433c-95b4-944dbccf338e",
   "metadata": {},
   "source": [
    "### Operations on tensors"
   ]
  },
  {
   "cell_type": "code",
   "execution_count": null,
   "id": "9956ceff-772f-475e-b02c-7374d8beab9d",
   "metadata": {},
   "outputs": [],
   "source": [
    "# similar to numpy, you can index and assign values to a tensor\n",
    "# using the tensor we just created:\n",
    "print(tensor)\n",
    "\n",
    "print(f\"The first row of the tensor: {tensor[0]}\")\n",
    "print(f\"The first column of the tensor: {tensor[:,0]}\")"
   ]
  },
  {
   "cell_type": "code",
   "execution_count": null,
   "id": "119efc41-8dbf-4962-8c42-962a6149054c",
   "metadata": {},
   "outputs": [],
   "source": [
    "print(\"Assign the first column to 0\")\n",
    "tensor[:,0] = 0\n",
    "print(tensor)"
   ]
  },
  {
   "cell_type": "code",
   "execution_count": null,
   "id": "95bb6063-2821-457d-abcc-e52b723ef88a",
   "metadata": {},
   "outputs": [],
   "source": [
    "# concatenate two tensors\n",
    "t1 = torch.cat([tensor, tensor], dim=0)\n",
    "print(t1)"
   ]
  },
  {
   "cell_type": "code",
   "execution_count": null,
   "id": "b2b107e5-8dac-4741-bd9d-b5951860d4f9",
   "metadata": {},
   "outputs": [],
   "source": [
    "# adding two tensors\n",
    "t1 = torch.tensor([[1,2], [3,4]])\n",
    "t2 = torch.tensor([[5,6], [7,8]])\n",
    "\n",
    "print(f'Tensor 1: {t1}')\n",
    "print(f'Tensor 2: {t2}')\n",
    "print('Add two tensors')\n",
    "print(t1 + t2)\n",
    "print('Alernatively:')\n",
    "print(torch.add(t1, t2))"
   ]
  },
  {
   "cell_type": "code",
   "execution_count": null,
   "id": "49110bea-df87-49cf-9599-23bc5c23f11a",
   "metadata": {},
   "outputs": [],
   "source": [
    "# in place operation\n",
    "print(tensor)\n",
    "print('Add 5 to each element in the tensor')\n",
    "tensor.add_(5)\n",
    "print(tensor)"
   ]
  },
  {
   "cell_type": "code",
   "execution_count": null,
   "id": "cf49235e-83c3-43f7-9437-92bad861d583",
   "metadata": {},
   "outputs": [],
   "source": [
    "# element wise product\n",
    "t1 * t2"
   ]
  },
  {
   "cell_type": "code",
   "execution_count": null,
   "id": "08ef6bc3-f1e7-41c0-9d70-27662d719a01",
   "metadata": {},
   "outputs": [],
   "source": [
    "# matrix multiplcation\n",
    "print(t1.matmul(t2))\n",
    "print(t1.matmul(t2.T)) #.T transpose the tensor"
   ]
  },
  {
   "cell_type": "code",
   "execution_count": null,
   "id": "1c69e2a3-5a56-40a6-a007-722b6d4ac63f",
   "metadata": {},
   "outputs": [],
   "source": [
    "# convert tensor to numpy array\n",
    "# needs to be broguht to cpu first\n",
    "tensor.cpu().numpy()"
   ]
  },
  {
   "cell_type": "markdown",
   "id": "de77bea4-fc6a-4570-8317-66ae2d874a9c",
   "metadata": {},
   "source": [
    "**Reference:**  \n",
    "PyTorch basics tutorial: https://pytorch.org/tutorials/beginner/basics/tensorqs_tutorial.html#tensors  \n"
   ]
  },
  {
   "cell_type": "code",
   "execution_count": null,
   "id": "8d2fe2d3-8cff-4381-8c20-8428c36d3149",
   "metadata": {},
   "outputs": [],
   "source": []
  }
 ],
 "metadata": {
  "kernelspec": {
   "display_name": "Python 3 (ipykernel)",
   "language": "python",
   "name": "python3"
  },
  "language_info": {
   "codemirror_mode": {
    "name": "ipython",
    "version": 3
   },
   "file_extension": ".py",
   "mimetype": "text/x-python",
   "name": "python",
   "nbconvert_exporter": "python",
   "pygments_lexer": "ipython3",
   "version": "3.9.21"
  }
 },
 "nbformat": 4,
 "nbformat_minor": 5
}
